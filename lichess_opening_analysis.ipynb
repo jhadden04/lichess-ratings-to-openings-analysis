{
  "nbformat": 4,
  "nbformat_minor": 0,
  "metadata": {
    "colab": {
      "name": "lichess_opening_analysis.ipynb",
      "provenance": [],
      "collapsed_sections": []
    },
    "kernelspec": {
      "name": "python3",
      "display_name": "Python 3"
    },
    "language_info": {
      "name": "python"
    }
  },
  "cells": [
    {
      "cell_type": "code",
      "metadata": {
        "id": "xrPc71KZmnrj"
      },
      "source": [
        "import chess.pgn\n",
        "import json\n",
        "from heapq import nlargest\n",
        "import math\n",
        "import matplotlib.pyplot as plt"
      ],
      "execution_count": null,
      "outputs": []
    },
    {
      "cell_type": "code",
      "metadata": {
        "id": "eraRlIT57toT"
      },
      "source": [
        "def parser():\n",
        "  pgn_filepath = \"/content/drive/MyDrive/lichess_db_standard_rated_2017-02.pgn\"  # 10 million game pgns\n",
        "  with open(pgn_filepath) as pgn_file:  # opens them up\n",
        "    main_list = []\n",
        "    length = 5000000\n",
        "    for i in range(length):\n",
        "      game = chess.pgn.read_game(pgn_file)\n",
        "      white_elo = (game.headers[\"WhiteElo\"])\n",
        "      black_elo = (game.headers[\"BlackElo\"])\n",
        "      pgn = {game.headers[\"Opening\"]}\n",
        "      if \":\" in pgn:     \n",
        "        # cleans up the openings, so they aren't the very specific variations\n",
        "        pgn = (pgn[:pgn.find(\":\")])\n",
        "      if \",\" in pgn:\n",
        "        pgn = (pgn[:pgn.find(\",\")])\n",
        "      if \" #\" in pgn:\n",
        "        pgn = (pgn[:pgn.find(\" #\")])\n",
        "\n",
        "      pgn_opening = pgn\n",
        "\n",
        "\n",
        "      time_control = (game.headers[\"TimeControl\"])\n",
        "      link = (game.headers[\"Site\"])\n",
        "      result = game.headers[\"Result\"]\n",
        "\n",
        "\n",
        "      each_game_list = []\n",
        "      each_game_list.append((white_elo, black_elo, pgn_opening, time_control, link, result))\n",
        "      # return only the useful things, that I will need\n",
        "      main_list.append(each_game_list)\n",
        "      \n",
        "  return main_list\n",
        "\n",
        "main_list = parser()\n",
        "with open(\"pgn_data.json\", \"w\") as pgn_data:  # make a json, so I only have to parse these files once\n",
        "    json.dump(main_list, pgn_data)"
      ],
      "execution_count": null,
      "outputs": []
    },
    {
      "cell_type": "code",
      "metadata": {
        "id": "R66AUd2GkGA2",
        "colab": {
          "base_uri": "https://localhost:8080/"
        },
        "outputId": "9ca160c8-d1ef-44b9-eec9-34815943258f"
      },
      "source": [
        "with open(\"/content/drive/MyDrive/compressed_pgn_data.json\") as f:\n",
        "    pgn_file = json.load(f)  # I have to save the pgn_file manually in the google drive\n",
        "    # but now it automatically op\n",
        "print(len(pgn_file))\n",
        "main_list = pgn_file\n",
        "print(main_list[10])\n"
      ],
      "execution_count": null,
      "outputs": [
        {
          "output_type": "stream",
          "text": [
            "5000000\n",
            "[['2454', '2409', 'Neo-Gruenfeld Defense', '180+0', 'https://lichess.org/CaIRufMD', '1-0']]\n"
          ],
          "name": "stdout"
        }
      ]
    },
    {
      "cell_type": "code",
      "metadata": {
        "id": "vU0r6AyooJZE"
      },
      "source": [
        "opening_lists = {600:[], 1000:[],  1200:[],  1300:[], 1400:[], \n",
        " 1500:[],  1600:[],  1700:[],  1800:[],  1900:[],  2100:[]}\n",
        "\n",
        "all_openings = {600:{}, 1000:{}, 1200:{}, 1300:{}, 1400:{},\n",
        " 1500:{}, 1600:{}, 1700:{}, 1800:{}, 1900:{}, 2100:{}}\n",
        "\n",
        "opening_wins = {600:{}, 1000:{}, 1200:{}, 1300:{}, 1400:{},\n",
        "                1500:{}, 1600:{}, 1700:{}, 1800:{}, 1900:{}, 2100:{}}\n",
        "\n",
        "opening_win_ratios = {600:{}, 1000:{}, 1200:{}, 1300:{}, 1400:{},\n",
        "                1500:{}, 1600:{}, 1700:{}, 1800:{}, 1900:{}, 2100:{}}  \n",
        "          \n",
        "# creating lists that are used to store all the opening info, which is unique\n",
        "# to each rating band\n",
        "\n",
        "rating_categorisation = [600, 1000, 1200, 1300, 1400,\n",
        "                         1500, 1600, 1700, 1800, 1900, 2100]\n",
        "\n",
        "# for reference, every time there is rating_categorisation[i] that just means that it\n",
        "# is looping through these values, so you can do it for all the rating bands\n",
        "\n",
        "# for i in range(len(main_list)):\n",
        "for i in range(len(pgn_file)):\n",
        "\n",
        "\n",
        "      black_rating = main_list[i][0][1]\n",
        "      white_rating = main_list[i][0][0]\n",
        "      opening = main_list[i][0][2]\n",
        "      result = main_list[i][0][5]\n",
        "      if -100 < int(white_rating) - int(black_rating) < 100:  # if they are separated by more\n",
        "      # than 200 rating points, they won't be included\n",
        "        average_rating = (int(black_rating) + int(white_rating))/2\n",
        "      else:\n",
        "        continue\n",
        " \n",
        "      for j in range(len(rating_categorisation)):\n",
        "        if rating_categorisation[j-1] < int(white_rating) < rating_categorisation[j]:\n",
        "          white_rating_band = rating_categorisation[j-1]\n",
        "          # print(white_rating_band)\n",
        "          break\n",
        "\n",
        "\n",
        "      if int(white_rating) > 2100:\n",
        "        white_rating_band = 2100\n",
        "      # print(white_rating, white_rating_band)\n",
        "      if opening not in opening_lists[white_rating_band]:\n",
        "        all_openings[white_rating_band][opening] = 1\n",
        "      \n",
        "      elif opening in opening_lists[white_rating_band]:\n",
        "      \n",
        "        all_openings[white_rating_band][opening] += 1\n",
        "\n",
        "      if result == \"1-0\" and opening not in opening_lists[white_rating_band]:\n",
        "        opening_wins[white_rating_band][opening] = 1\n",
        "\n",
        "      elif result == \"1-0\" and opening in opening_lists[white_rating_band]:\n",
        "        opening_wins[white_rating_band][opening] += 1  # adds the openings to \n",
        "        # dictionaries, to count the number of times each one is played\n",
        "        # in each rating band, as well as the number of time that each one wins\n",
        "      \n",
        "      else: \n",
        "        continue\n",
        "      \n",
        "      if opening not in opening_lists[white_rating_band]:\n",
        "        opening_lists[white_rating_band].append(opening)"
      ],
      "execution_count": null,
      "outputs": []
    },
    {
      "cell_type": "code",
      "metadata": {
        "id": "-VzJA5bFGuOx"
      },
      "source": [
        "def win_ratio(rating_band):\n",
        "  win_ratio = {}\n",
        "  for key, value in all_openings[rating_band].items():\n",
        "    \n",
        "    denominater = (value)\n",
        "    try:\n",
        "      numerator = (opening_wins[rating_band][key])\n",
        "    except:\n",
        "      numerator = 0  # might be the source of bugs\n",
        "    ratio = numerator/denominater\n",
        "    win_ratio[key] = round(ratio, 2) \n",
        "  return win_ratio   # finds the win ratio of each rating, so we know how successful \n",
        "  # each opening is    \n",
        "\n",
        "for i in range(len(rating_categorisation)):\n",
        "  opening_win_ratios[rating_categorisation[i]] = win_ratio(rating_categorisation[i])\n",
        "\n",
        "print(opening_win_ratios)"
      ],
      "execution_count": null,
      "outputs": []
    },
    {
      "cell_type": "code",
      "metadata": {
        "id": "PEv_9FXy5AZB"
      },
      "source": [
        "dubious_openings = [\"King's Pawn\", \"King's Knight\", \"Queen's Pawn\", \n",
        "\"Queen's Gambit Refused\",\"Englund\", \n",
        " \"Defense\", \"Defence\", \"Russian Game\", \"Elephant\", \"Duras\"]\n",
        "# for example, King's pawn is where e4 is played, and then the \n",
        "# rest of the moves are not from the opening book, so no use\n",
        "# for my data.\n",
        "# getting rid of defense, as this analysing the best openings for white, not black\n",
        "# and there are near 0 openings put forward by white, which are called \"defense\"\n",
        "for i in range(len(rating_categorisation)):\n",
        "  for key, value in opening_win_ratios[rating_categorisation[i]].items():\n",
        "    for substring in dubious_openings:  # gets rid of all openings from dubious openings\n",
        "    # you can see the original win ratio, as it is just 0.0 followed by the original win_ratio\n",
        "      if substring in key:\n",
        "        opening_win_ratios[rating_categorisation[i]][key] = float(f\"0.0{str(opening_win_ratios[rating_categorisation[i]][key])[2:]}\")\n",
        "        break\n",
        "print(opening_win_ratios)\n",
        "print(all_openings)"
      ],
      "execution_count": null,
      "outputs": []
    },
    {
      "cell_type": "code",
      "metadata": {
        "id": "61WMG9BFRkzh"
      },
      "source": [
        "best_openings_list = {600:[], 1000:[],  1200:[],  1300:[], 1400:[], \n",
        "1500:[],  1600:[],  1700:[],  1800:[],  1900:[],  2100:[]}\n",
        "best_openings_ratio_list = {600:[], 1000:[],  1200:[],  1300:[], 1400:[], \n",
        "1500:[],  1600:[],  1700:[],  1800:[],  1900:[],  2100:[]}\n",
        "\n",
        "# sorts the openings into a list, with best first etc\n",
        "\n",
        "for i in range(len(rating_categorisation)):\n",
        "  best_openings_list[rating_categorisation[i]] = nlargest(500, opening_win_ratios[rating_categorisation[i]], key = opening_win_ratios[rating_categorisation[i]].get)\n",
        "  for j in range(len(best_openings_list[rating_categorisation[i]])):\n",
        "    best_openings_ratio_list[rating_categorisation[i]].append(opening_win_ratios[rating_categorisation[i]][best_openings_list[rating_categorisation[i]][j]])\n"
      ],
      "execution_count": null,
      "outputs": []
    },
    {
      "cell_type": "code",
      "metadata": {
        "id": "MgGACoXk0MYe"
      },
      "source": [
        "best_openings_list_copy = best_openings_list.copy()\n",
        "best_openings_ratio_list_copy = best_openings_ratio_list.copy()\n",
        "for x in range(3):\n",
        "  for i in range(len(rating_categorisation)):\n",
        "    # print(best_openings_list[rating_categorisation[i]])\n",
        "    for j in range(len(best_openings_list[rating_categorisation[i]])):\n",
        "      try:\n",
        "        # print(best_openings_list[rating_categorisation[i]][j])\n",
        "        # print(all_openings[rating_categorisation[i]][best_openings_list[rating_categorisation[i]][j]])\n",
        "        if all_openings[rating_categorisation[i]][best_openings_list[rating_categorisation[i]][j]] < 300:\n",
        "          del(best_openings_list_copy[rating_categorisation[i]][j])\n",
        "          del(best_openings_ratio_list_copy[rating_categorisation[i]][j])\n",
        "      except:\n",
        "        continue\n",
        "\n",
        "  best_openings_list = best_openings_list_copy\n",
        "  best_openings_ratio_list = best_openings_ratio_list_copy\n",
        "\n"
      ],
      "execution_count": null,
      "outputs": []
    },
    {
      "cell_type": "code",
      "metadata": {
        "id": "yClPcv9V3dTM"
      },
      "source": [
        "print(best_openings_list)\n",
        "print(best_openings_ratio_list)"
      ],
      "execution_count": null,
      "outputs": []
    },
    {
      "cell_type": "code",
      "metadata": {
        "id": "QKrbqHrU0TzA"
      },
      "source": [
        "\n",
        "for i in range(len(rating_categorisation)):\n",
        "  print(rating_categorisation[i])\n",
        "  print(all_openings[rating_categorisation[i]])\n",
        "  print(opening_win_ratios[rating_categorisation[i]])\n",
        "  print(best_openings_list[rating_categorisation[i]])\n",
        "  print(best_openings_ratio_list[rating_categorisation[i]])"
      ],
      "execution_count": null,
      "outputs": []
    },
    {
      "cell_type": "code",
      "metadata": {
        "id": "G-W27HrrlQMV"
      },
      "source": [
        "def graph_maker(largest, win_percent, range, lims):\n",
        "  print(largest[:8])\n",
        "  plt.bar(largest[:8], win_percent[:8])\n",
        "  plt.ylim(lims)\n",
        "  plt.title(f\"Most Successful Openings for White, between {range}\")  \n",
        "  plt.ylabel(\"Win percentage for white\")\n",
        "\n",
        "  plt.xticks(\n",
        "      rotation=45, \n",
        "      horizontalalignment='right',\n",
        "      fontweight='light',\n",
        "      fontsize='small'  \n",
        "  )\n",
        "  plt.show()"
      ],
      "execution_count": null,
      "outputs": []
    },
    {
      "cell_type": "code",
      "metadata": {
        "id": "_UQeZbl9lYpf"
      },
      "source": [
        "for i in range(len(rating_categorisation)):\n",
        "  print(best_openings_ratio_list[rating_categorisation[i]][:8])\n",
        "  numbers = best_openings_ratio_list[rating_categorisation[i]][:8]\n",
        "  largest = math.ceil(numbers[0]*100)/100\n",
        "  if largest >= numbers[0]:\n",
        "    largest += 0.02\n",
        "  smallest = math.floor(numbers[-1]*100)/100\n",
        "  if smallest <= numbers[0]:\n",
        "    smallest -= 0.02\n",
        "  limits = [smallest, largest]\n",
        "  try:\n",
        "    graph_maker(best_openings_list[rating_categorisation[i]], best_openings_ratio_list[rating_categorisation[i]], f\"{rating_categorisation[i]}-{rating_categorisation[i+1]}\", limits)\n",
        "  except:\n",
        "    graph_maker(best_openings_list[2100], best_openings_ratio_list[2100], f\"{2100}-{3000}\", limits)"
      ],
      "execution_count": null,
      "outputs": []
    },
    {
      "cell_type": "code",
      "metadata": {
        "id": "MW4N-Z9bkmo0"
      },
      "source": [
        "results_cloggers = [\"King's Pawn Game\", \"King's Knight\", \"Queen's Pawn Game\", \n",
        "\"Queen's Gambit Refused\"] \n",
        "# openings that I don't want on the data, as they aren't really openings\n",
        "most_used_openings = {600:[], 1000:[],  1200:[],  1300:[], 1400:[], \n",
        "1500:[],  1600:[],  1700:[],  1800:[],  1900:[],  2100:[]}\n",
        "most_used_opening_numbers = {600:[], 1000:[],  1200:[],  1300:[], 1400:[], \n",
        "1500:[],  1600:[],  1700:[],  1800:[],  1900:[],  2100:[]}\n",
        "\n",
        "most_used_openings_copy = most_used_openings.copy()\n",
        "\n",
        "for i in range(len(rating_categorisation)):\n",
        "  most_used_openings[rating_categorisation[i]] = (nlargest(500, all_openings[rating_categorisation[i]], key=all_openings[rating_categorisation[i]].get))\n",
        "\n",
        "for i in range(len(rating_categorisation)):\n",
        "  for j in range(len(most_used_openings[rating_categorisation[i]])):\n",
        "    if most_used_openings[rating_categorisation[i]][j] not in results_cloggers:\n",
        "      most_used_openings_copy[rating_categorisation[i]].append(most_used_openings[rating_categorisation[i]][j])\n",
        "\n",
        "\n",
        "most_used_openings = most_used_openings_copy\n",
        "for i in range(len(rating_categorisation)):\n",
        "  for j in range(len(most_used_openings[rating_categorisation[i]])):\n",
        "    most_used_opening_numbers[rating_categorisation[i]].append(all_openings[rating_categorisation[i]][most_used_openings[rating_categorisation[i]][j]])\n",
        "\n",
        "\"\"\"for i in range(len(rating_categorisation)):\n",
        "  print(rating_categorisation[i])\n",
        "  print(most_used_openings[rating_categorisation[i]])\n",
        "  print(most_used_opening_numbers[rating_categorisation[i]])\"\"\"\n",
        "# this just gets the most popular opening in each category"
      ],
      "execution_count": null,
      "outputs": []
    },
    {
      "cell_type": "code",
      "metadata": {
        "id": "zGTryWFa_K-8"
      },
      "source": [
        "each_opening_win = {}\n",
        "\n",
        "for i in range(len(rating_categorisation)):\n",
        "  for j in range(len(most_used_openings[rating_categorisation[i]])):\n",
        "    if most_used_openings[rating_categorisation[i]][j] not in each_opening_win:\n",
        "      each_opening_win[most_used_openings[rating_categorisation[i]][j]] = []\n",
        "      # print(opening_win_ratios[rating_categorisation[i]][most_used_openings[rating_categorisation[i]][j]])\n",
        "      each_opening_win[most_used_openings[rating_categorisation[i]][j]].append(opening_win_ratios[rating_categorisation[i]][most_used_openings[rating_categorisation[i]][j]])\n",
        "    else:\n",
        "      each_opening_win[most_used_openings[rating_categorisation[i]][j]].append(opening_win_ratios[rating_categorisation[i]][most_used_openings[rating_categorisation[i]][j]])\n",
        "\n",
        "\n",
        "print(each_opening_win)\n"
      ],
      "execution_count": null,
      "outputs": []
    },
    {
      "cell_type": "code",
      "metadata": {
        "id": "nHDEGISdYzQ5"
      },
      "source": [
        "# line graphs for each opening.\n",
        "ratings_boundaries= [\"600-1000\", \"1000-1200\", \"1200-1300\", \"1300-1400\", \"1400-1500\", \"1500-1600\", \"1600-1700\", \"1700-1800\",\"1800-1900\" ,\"1900-2100\", \"2100-3000\"]\n",
        "def line_graph_maker(name):\n",
        "  \n",
        "  win_percent = each_opening_win[name]\n",
        "  print(f\"{name} win percent: {win_percent}\")\n",
        "  if win_percent[0] < 0.09:\n",
        "    for i in range(len(win_percent)):\n",
        "      win_percent[i] *=  1000\n",
        "\n",
        "\n",
        "  plt.plot(ratings_boundaries, win_percent, label = name)\n",
        "  plt.title(name)\n",
        "  plt.xticks(\n",
        "        rotation=45, \n",
        "        horizontalalignment='right',\n",
        "        fontweight='light',\n",
        "        fontsize='small')\n",
        "  # plt.grid()\n",
        "  plt.show()\n",
        "  "
      ],
      "execution_count": null,
      "outputs": []
    },
    {
      "cell_type": "code",
      "metadata": {
        "id": "lwU_etDWd--q"
      },
      "source": [
        "for key, value in each_opening_win.items():\n",
        "  try:\n",
        "    line_graph_maker(key)\n",
        "  except:\n",
        "    continue\n"
      ],
      "execution_count": null,
      "outputs": []
    },
    {
      "cell_type": "code",
      "metadata": {
        "id": "JUE7-wWZ2zZg"
      },
      "source": [
        "def custom_line_graph_maker(name):\n",
        "  \n",
        "  win_percent = each_opening_win[name]\n",
        "  if win_percent[0] < 0.09:\n",
        "    for i in range(len(win_percent)):\n",
        "      win_percent[i] *=  1000\n",
        "  if win_percent[0] > 0.7:\n",
        "    win_percent[0] = win_percent[1] + 0.05\n",
        "  if win_percent[0] < 0.4:\n",
        "    win_percent[0] = win_percent[1] - 0.05\n",
        "\n",
        "  plt.plot(ratings_boundaries, win_percent, label = name)\n",
        "  # plt.title(name)\n",
        "  plt.xticks(\n",
        "        rotation=45, \n",
        "        horizontalalignment='right',\n",
        "        fontweight='light',\n",
        "        fontsize='small')\n",
        "  plt.legend()\n",
        "  print(f\"{name} win percent: {win_percent}\")\n",
        "\n",
        "  # plt.grid()\n",
        "  # plt.show()"
      ],
      "execution_count": null,
      "outputs": []
    },
    {
      "cell_type": "code",
      "metadata": {
        "id": "jncHScfh1_gu"
      },
      "source": [
        "# curated line graphs\n",
        "\n",
        "custom_line_graph_maker(\"Queen's Gambit\")\n",
        "custom_line_graph_maker(\"Danish Gambit\")\n",
        "custom_line_graph_maker(\"King's Gambit\")"
      ],
      "execution_count": null,
      "outputs": []
    },
    {
      "cell_type": "code",
      "metadata": {
        "id": "8qltNJeuzX_b"
      },
      "source": [
        "custom_line_graph_maker(\"Queen's Gambit Accepted\")\n",
        "custom_line_graph_maker(\"Danish Gambit Accepted\")\n",
        "custom_line_graph_maker(\"King's Gambit Accepted\")"
      ],
      "execution_count": null,
      "outputs": []
    },
    {
      "cell_type": "code",
      "metadata": {
        "id": "ZMh22SVa0e0T"
      },
      "source": [
        "for i in range(4):\n",
        "  custom_line_graph_maker(best_openings_list[1000][i])"
      ],
      "execution_count": null,
      "outputs": []
    },
    {
      "cell_type": "code",
      "metadata": {
        "id": "TW_2sCJ2zktH"
      },
      "source": [
        "for i in range(4):\n",
        "  custom_line_graph_maker(best_openings_list[1500][i])"
      ],
      "execution_count": null,
      "outputs": []
    },
    {
      "cell_type": "code",
      "metadata": {
        "id": "yJUTYrRa0k5Y"
      },
      "source": [
        "for i in range(4):\n",
        "  custom_line_graph_maker(best_openings_list[1800][i])"
      ],
      "execution_count": null,
      "outputs": []
    },
    {
      "cell_type": "code",
      "metadata": {
        "id": "yJPFUX570q1m"
      },
      "source": [
        "for i in range(4):\n",
        "  custom_line_graph_maker(best_openings_list[2100][i])"
      ],
      "execution_count": null,
      "outputs": []
    },
    {
      "cell_type": "code",
      "metadata": {
        "id": "86b1l8J52VtB"
      },
      "source": [
        "def pop_graph_maker(opening, numbers, band):\n",
        "  plt.plot(opening, numbers)\n",
        "  plt.title(f\"Most popular openings between {band}\")\n",
        "  plt.xticks(\n",
        "        rotation=45, \n",
        "        horizontalalignment='right',\n",
        "        fontweight='light',\n",
        "        fontsize='small')\n",
        "  plt.ylabel(\"Times each opening is played\")\n",
        "  plt.show()"
      ],
      "execution_count": null,
      "outputs": []
    },
    {
      "cell_type": "code",
      "metadata": {
        "id": "hiOBcZLq0W88"
      },
      "source": [
        "for i in range(len(rating_categorisation)):\n",
        "  try:\n",
        "    pop_openings = (most_used_openings[rating_categorisation[i]][:15])\n",
        "    pop_openings_numbers = (most_used_opening_numbers[rating_categorisation[i]][:15])\n",
        "    \n",
        "  \n",
        "    pop_graph_maker(pop_openings, pop_openings_numbers , f\"{rating_categorisation[i]}-{rating_categorisation[i+1]}\")\n",
        "  except:\n",
        "    pop_graph_maker(pop_openings, pop_openings_numbers , f\"2100-3000\")\n",
        " "
      ],
      "execution_count": null,
      "outputs": []
    },
    {
      "cell_type": "code",
      "metadata": {
        "id": "Dx4bVMIJ1gy5"
      },
      "source": [
        "for i in range(4):\n",
        "  custom_line_graph_maker(pop_openings[i])"
      ],
      "execution_count": null,
      "outputs": []
    },
    {
      "cell_type": "code",
      "metadata": {
        "id": "Yuunw0Iy2SEv"
      },
      "source": [
        "for i in range(4):\n",
        "  custom_line_graph_maker(pop_openings[i+4])"
      ],
      "execution_count": null,
      "outputs": []
    },
    {
      "cell_type": "code",
      "metadata": {
        "id": "6M05KWHp2ZLi"
      },
      "source": [
        "for i in range(4):\n",
        "  custom_line_graph_maker(pop_openings[i+8])"
      ],
      "execution_count": null,
      "outputs": []
    },
    {
      "cell_type": "code",
      "metadata": {
        "id": "hYXrZPx42f9z"
      },
      "source": [
        "for i in range(3):\n",
        "  custom_line_graph_maker(pop_openings[i+12])"
      ],
      "execution_count": null,
      "outputs": []
    }
  ]
}